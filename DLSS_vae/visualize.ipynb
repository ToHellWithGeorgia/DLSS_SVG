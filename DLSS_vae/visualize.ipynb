{
 "cells": [
  {
   "cell_type": "code",
   "execution_count": 1,
   "metadata": {},
   "outputs": [],
   "source": [
    "import torchvision\n",
    "from torchvision import datasets\n",
    "from torchvision import transforms\n",
    "from torchvision.utils import save_image\n",
    "import torch\n",
    "import torch.nn as nn\n",
    "import torch.nn.functional as F\n",
    "import torch.optim as optim\n",
    "import torch.utils.data as data\n",
    "from torch.nn import functional as func\n",
    "import matplotlib.pyplot as plt\n",
    "\n",
    "from tqdm import tqdm\n",
    "import os, sys\n",
    "import random\n",
    "import numpy as np\n",
    "\n",
    "import util\n",
    "from model import RecurrentAE\n",
    "from args import get_train_args\n",
    "\n",
    "%load_ext autoreload\n",
    "%autoreload 2"
   ]
  },
  {
   "cell_type": "code",
   "execution_count": 2,
   "metadata": {},
   "outputs": [],
   "source": [
    "def LoG(img):\n",
    "    weight = [\n",
    "        [0, 0, 1, 0, 0],\n",
    "        [0, 1, 2, 1, 0],\n",
    "        [1, 2, -16, 2, 1],\n",
    "        [0, 1, 2, 1, 0],\n",
    "        [0, 0, 1, 0, 0]\n",
    "    ]\n",
    "    weight = np.array(weight)\n",
    "\n",
    "    weight_np = np.zeros((1, 1, 5, 5))\n",
    "    weight_np[0, 0, :, :] = weight\n",
    "    weight_np = np.repeat(weight_np, img.shape[1], axis=1)\n",
    "    weight_np = np.repeat(weight_np, img.shape[0], axis=0)\n",
    "\n",
    "    weight = torch.from_numpy(weight_np).type(torch.FloatTensor).to('cuda:0')\n",
    "\n",
    "    return func.conv2d(img, weight, padding=1)\n",
    "\n",
    "def HFEN(output, target):\n",
    "    return torch.sum(torch.pow(LoG(output) - LoG(target), 2)) / torch.sum(torch.pow(LoG(target), 2))\n",
    "\n",
    "\n",
    "def l1_norm(output, target):\n",
    "    return torch.sum(torch.abs(output - target)) / torch.numel(output)\n"
   ]
  },
  {
   "cell_type": "code",
   "execution_count": 3,
   "metadata": {},
   "outputs": [],
   "source": [
    "def loss_fn(recon_x, x, mu, logvar):\n",
    "#     BCE = F.binary_cross_entropy(recon_x, x, size_average=False)\n",
    "    BCE = 0.875 * l1_norm(recon_x, x) + 0.125 * HFEN(recon_x, x)\n",
    "    # BCE = F.mse_loss(recon_x, x, size_average=False)\n",
    "\n",
    "    # see Appendix B from VAE paper:\n",
    "    # Kingma and Welling. Auto-Encoding Variational Bayes. ICLR, 2014\n",
    "    # 0.5 * sum(1 + log(sigma^2) - mu^2 - sigma^2)\n",
    "    KLD = -0.5 * torch.mean(1 + logvar - mu.pow(2) - logvar.exp())\n",
    "\n",
    "#     return BCE + KLD, BCE, KLD\n",
    "    return BCE + KLD, BCE, KLD\n",
    "\n",
    "def loss_fn_rae(output, target):\n",
    "    ls = util.l1_norm(output, target)\n",
    "    lg = util.HFEN(output, target)\n",
    "    return 0.875 * ls + 0.125 * lg, ls, lg"
   ]
  },
  {
   "cell_type": "code",
   "execution_count": 4,
   "metadata": {},
   "outputs": [
    {
     "name": "stdout",
     "output_type": "stream",
     "text": [
      "cuda:0\n",
      "[03.20.19 13:51:26] Using random seed 248...\n"
     ]
    }
   ],
   "source": [
    "args = get_train_args()\n",
    "\n",
    "args.save_dir = args.save_dir + \"train/\" + args.name + \"/\"\n",
    "if not os.path.exists(args.save_dir):\n",
    "    os.makedirs(args.save_dir)\n",
    "\n",
    "log = util.get_logger(args.save_dir, args.name)\n",
    "device, gpu_ids = util.get_available_devices()\n",
    "print(device)\n",
    "\n",
    "# Set random seed\n",
    "log.info('Using random seed {}...'.format(args.seed))\n",
    "random.seed(args.seed)\n",
    "np.random.seed(args.seed)\n",
    "torch.manual_seed(args.seed)\n",
    "torch.cuda.manual_seed_all(args.seed)\n"
   ]
  },
  {
   "cell_type": "code",
   "execution_count": 5,
   "metadata": {},
   "outputs": [
    {
     "name": "stdout",
     "output_type": "stream",
     "text": [
      "[03.20.19 13:51:29] Building model...\n"
     ]
    }
   ],
   "source": [
    "# Get model\n",
    "log.info('Building model...')\n",
    "model = RecurrentAE(input_nc=3, device=device)\n",
    "model = model.to(device)\n",
    "model.train()\n",
    "\n",
    "optimizer = optim.Adam(model.parameters(), lr=args.lr) \n",
    "# optimizer = optim.Adam(model.parameters(), lr=args.lr, betas=(0.9, 0.99)) "
   ]
  },
  {
   "cell_type": "code",
   "execution_count": 6,
   "metadata": {},
   "outputs": [],
   "source": [
    "# Add salt and pepper noise\n",
    "def sap(img): \n",
    "    h,w = img.size \n",
    "    imgp = img.load()\n",
    "    i = h * w // 40\n",
    "    rd = random.sample(range(0,h*w), i) \n",
    "    rd_h = [num // w for num in rd] \n",
    "    rd_w = [num % w for num in rd] \n",
    "    for idx in range(i): \n",
    "        sap = int(random.randint(0,1) * 255) \n",
    "        imgp[rd_h[idx],rd_w[idx]] = (sap,sap,sap)\n",
    "    \n",
    "    return img"
   ]
  },
  {
   "cell_type": "code",
   "execution_count": 7,
   "metadata": {},
   "outputs": [],
   "source": [
    "# from PIL import Image\n",
    "\n",
    "# test_img = Image.open(\"dataset/train/ori/rand_0002.png\")\n",
    "# # sap(test_img)\n",
    "# sap_transform = transforms.Lambda(sap)\n",
    "# sap_transform(test_img)\n",
    "# test_img.show()"
   ]
  },
  {
   "cell_type": "code",
   "execution_count": 14,
   "metadata": {},
   "outputs": [
    {
     "name": "stdout",
     "output_type": "stream",
     "text": [
      "[03.20.19 13:52:52] Building dataset...\n"
     ]
    }
   ],
   "source": [
    "# Get data loader\n",
    "log.info('Building dataset...')\n",
    "train_dataset = util.DLSSDataset(root_dir=args.train_dataset_dir,\n",
    "                                 transform=transforms.Compose([\n",
    "                                    # Add salt and pepper noise\n",
    "#                                     transforms.Lambda(sap),\n",
    "                                    transforms.CenterCrop(256),\n",
    "                                    transforms.ToTensor()\n",
    "                                 ])\n",
    "                                 ,train_transform=transforms.Lambda(sap)\n",
    "                                )   \n",
    "train_loader = data.DataLoader(train_dataset,\n",
    "                               batch_size=args.batch_size,\n",
    "                               shuffle=True)\n",
    "\n",
    "dev_dataset = util.DLSSDataset(root_dir=args.dev_dataset_dir,\n",
    "                               transform=transforms. \\\n",
    "                                   Compose([\n",
    "                                   transforms.CenterCrop(256),\n",
    "                                   transforms.ToTensor()\n",
    "                               ]))    \n",
    "dev_loader = data.DataLoader(dev_dataset,\n",
    "                             batch_size=args.batch_size,\n",
    "                             shuffle=False)\n"
   ]
  },
  {
   "cell_type": "code",
   "execution_count": 15,
   "metadata": {},
   "outputs": [
    {
     "data": {
      "text/plain": [
       "<matplotlib.image.AxesImage at 0x7f29936e7550>"
      ]
     },
     "execution_count": 15,
     "metadata": {},
     "output_type": "execute_result"
    },
    {
     "data": {
      "image/png": "[encoded data removed]",
      "text/plain": [
       "<Figure size 1440x1440 with 2 Axes>"
      ]
     },
     "metadata": {
      "needs_background": "light"
     },
     "output_type": "display_data"
    }
   ],
   "source": [
    "pil2tensor = transforms.ToTensor()\n",
    "tensor2pil = transforms.ToPILImage()\n",
    "\n",
    "# idx = random.randint(0, len(train_dataset))\n",
    "idx = 2\n",
    "ori_t, ss_t = train_dataset[idx]\n",
    "ori_i, ss_i = tensor2pil(ori_t), tensor2pil(ss_t)\n",
    "# print(train_dataset[0])\n",
    "%matplotlib inline\n",
    "plt.figure(figsize = (20,20))\n",
    "plt.subplot(1,2,1)\n",
    "plt.imshow(np.asarray(ori_i))\n",
    "plt.subplot(1,2,2)\n",
    "plt.imshow(np.asarray(ss_i))"
   ]
  },
  {
   "cell_type": "code",
   "execution_count": 10,
   "metadata": {},
   "outputs": [
    {
     "name": "stdout",
     "output_type": "stream",
     "text": [
      "1790\n"
     ]
    }
   ],
   "source": [
    "print(len(train_dataset))\n",
    "# print(train_loader.dataset[0])"
   ]
  },
  {
   "cell_type": "code",
   "execution_count": 11,
   "metadata": {},
   "outputs": [],
   "source": [
    "# # Train vae\n",
    "# log.info('Training')\n",
    "# step = 0\n",
    "# epoch = 0\n",
    "# batch_size = args.batch_size\n",
    "# model.train()\n",
    "# while epoch != args.num_epochs:\n",
    "#     epoch += 1\n",
    "# #     log.info('Starting epoch {}...'.format(epoch))\n",
    "\n",
    "#     with torch.enable_grad(), \\\n",
    "#             tqdm(total=len(train_loader.dataset)) as progress_bar:\n",
    "#         for ori, ss in train_loader:\n",
    "#             ori = ori.to(device)\n",
    "#             ss = ss.to(device)\n",
    "#             model = model.to(device)\n",
    "\n",
    "#             output, mu, logvar = model(ori)\n",
    "#             mu = mu.to(device)\n",
    "#             logvar = logvar.to(device)\n",
    "#             loss, bce, kld = loss_fn(output, ss, mu, logvar)\n",
    "# #             loss, bce, kld = loss_fn(output, dist, mu, logvar)\n",
    "#             loss_val = loss.item()\n",
    "#             optimizer.zero_grad()\n",
    "#             loss.backward()\n",
    "# #             nn.utils.clip_grad_norm_(model.parameters(), args.max_grad_norm)\n",
    "#             optimizer.step()\n",
    "\n",
    "#             step += batch_size\n",
    "#             progress_bar.update(batch_size)\n",
    "#             progress_bar.set_postfix(epoch=epoch, CE=loss_val)"
   ]
  },
  {
   "cell_type": "code",
   "execution_count": 13,
   "metadata": {
    "scrolled": true
   },
   "outputs": [
    {
     "name": "stderr",
     "output_type": "stream",
     "text": [
      "\r",
      "  0%|          | 0/1790 [00:00<?, ?it/s]"
     ]
    },
    {
     "name": "stdout",
     "output_type": "stream",
     "text": [
      "[03.11.19 20:20:09] Training\n"
     ]
    },
    {
     "name": "stderr",
     "output_type": "stream",
     "text": [
      "/home/jack/anaconda3/lib/python3.7/site-packages/torch/nn/modules/upsampling.py:129: UserWarning: nn.Upsample is deprecated. Use nn.functional.interpolate instead.\n",
      "  warnings.warn(\"nn.{} is deprecated. Use nn.functional.interpolate instead.\".format(self.name))\n",
      "1792it [00:47, 40.85it/s, Loss=0.257, epoch=1]                          \n",
      "  0%|          | 0/1790 [00:00<?, ?it/s]"
     ]
    },
    {
     "name": "stdout",
     "output_type": "stream",
     "text": [
      "[03.11.19 20:21:05] Better model saved. Average loss: 0.23923156280070543\n"
     ]
    },
    {
     "name": "stderr",
     "output_type": "stream",
     "text": [
      "1792it [00:47, 39.75it/s, Loss=0.217, epoch=2]                          \n",
      "  0%|          | 0/1790 [00:00<?, ?it/s]"
     ]
    },
    {
     "name": "stdout",
     "output_type": "stream",
     "text": [
      "[03.11.19 20:22:01] Better model saved. Average loss: 0.21243545040488243\n"
     ]
    },
    {
     "name": "stderr",
     "output_type": "stream",
     "text": [
      "1792it [00:47, 41.24it/s, Loss=0.239, epoch=3]                          \n",
      "  0%|          | 0/1790 [00:00<?, ?it/s]"
     ]
    },
    {
     "name": "stdout",
     "output_type": "stream",
     "text": [
      "[03.11.19 20:22:57] Better model saved. Average loss: 0.20357861928641796\n"
     ]
    },
    {
     "name": "stderr",
     "output_type": "stream",
     "text": [
      "1792it [00:47, 42.16it/s, Loss=0.163, epoch=4]                          \n",
      "  0%|          | 0/1790 [00:00<?, ?it/s]"
     ]
    },
    {
     "name": "stdout",
     "output_type": "stream",
     "text": [
      "[03.11.19 20:23:53] Better model saved. Average loss: 0.15537250135093927\n"
     ]
    },
    {
     "name": "stderr",
     "output_type": "stream",
     "text": [
      "1792it [00:46, 41.41it/s, Loss=0.142, epoch=5]                          \n",
      "  0%|          | 0/1790 [00:00<?, ?it/s]"
     ]
    },
    {
     "name": "stdout",
     "output_type": "stream",
     "text": [
      "[03.11.19 20:24:48] Better model saved. Average loss: 0.13457714300602674\n"
     ]
    },
    {
     "name": "stderr",
     "output_type": "stream",
     "text": [
      "1792it [00:47, 41.50it/s, Loss=0.133, epoch=6]                          \n",
      "  0%|          | 0/1790 [00:00<?, ?it/s]"
     ]
    },
    {
     "name": "stdout",
     "output_type": "stream",
     "text": [
      "[03.11.19 20:25:44] Better model saved. Average loss: 0.1295355837792158\n"
     ]
    },
    {
     "name": "stderr",
     "output_type": "stream",
     "text": [
      "1792it [00:47, 41.47it/s, Loss=0.135, epoch=7]                          \n",
      "  0%|          | 0/1790 [00:00<?, ?it/s]"
     ]
    },
    {
     "name": "stdout",
     "output_type": "stream",
     "text": [
      "[03.11.19 20:26:40] Better model saved. Average loss: 0.12633103309199215\n"
     ]
    },
    {
     "name": "stderr",
     "output_type": "stream",
     "text": [
      "1792it [00:46, 41.70it/s, Loss=0.126, epoch=8]                          \n",
      "  0%|          | 0/1790 [00:00<?, ?it/s]"
     ]
    },
    {
     "name": "stdout",
     "output_type": "stream",
     "text": [
      "[03.11.19 20:27:35] Better model saved. Average loss: 0.12124285763129591\n"
     ]
    },
    {
     "name": "stderr",
     "output_type": "stream",
     "text": [
      "1792it [00:47, 39.25it/s, Loss=0.126, epoch=9]                          \n",
      "  0%|          | 0/1790 [00:00<?, ?it/s]"
     ]
    },
    {
     "name": "stdout",
     "output_type": "stream",
     "text": [
      "[03.11.19 20:28:32] Better model saved. Average loss: 0.11612657541409135\n"
     ]
    },
    {
     "name": "stderr",
     "output_type": "stream",
     "text": [
      "1792it [00:46, 37.32it/s, Loss=0.122, epoch=10]                          \n",
      "  0%|          | 0/1790 [00:00<?, ?it/s]"
     ]
    },
    {
     "name": "stdout",
     "output_type": "stream",
     "text": [
      "[03.11.19 20:29:27] Better model saved. Average loss: 0.11277475617825986\n"
     ]
    },
    {
     "name": "stderr",
     "output_type": "stream",
     "text": [
      "1792it [00:46, 41.46it/s, Loss=0.12, epoch=11]                           \n",
      "  0%|          | 0/1790 [00:00<?, ?it/s]"
     ]
    },
    {
     "name": "stdout",
     "output_type": "stream",
     "text": [
      "[03.11.19 20:30:23] Better model saved. Average loss: 0.11252254452556372\n"
     ]
    },
    {
     "name": "stderr",
     "output_type": "stream",
     "text": [
      "1792it [00:46, 41.57it/s, Loss=0.11, epoch=12]                           \n",
      "  0%|          | 0/1790 [00:00<?, ?it/s]"
     ]
    },
    {
     "name": "stdout",
     "output_type": "stream",
     "text": [
      "[03.11.19 20:31:18] Better model saved. Average loss: 0.10466327108442783\n"
     ]
    },
    {
     "name": "stderr",
     "output_type": "stream",
     "text": [
      "1792it [00:47, 41.99it/s, Loss=0.106, epoch=13]                          \n",
      "  0%|          | 0/1790 [00:00<?, ?it/s]"
     ]
    },
    {
     "name": "stdout",
     "output_type": "stream",
     "text": [
      "[03.11.19 20:32:14] Better model saved. Average loss: 0.09893222823739052\n"
     ]
    },
    {
     "name": "stderr",
     "output_type": "stream",
     "text": [
      "1792it [00:47, 41.93it/s, Loss=0.103, epoch=14]                          \n",
      "  0%|          | 0/1790 [00:00<?, ?it/s]"
     ]
    },
    {
     "name": "stdout",
     "output_type": "stream",
     "text": [
      "[03.11.19 20:33:09] Better model saved. Average loss: 0.09333314504474402\n"
     ]
    },
    {
     "name": "stderr",
     "output_type": "stream",
     "text": [
      "1792it [00:47, 40.77it/s, Loss=0.0967, epoch=15]                          \n",
      "  0%|          | 0/1790 [00:00<?, ?it/s]"
     ]
    },
    {
     "name": "stdout",
     "output_type": "stream",
     "text": [
      "[03.11.19 20:34:05] Better model saved. Average loss: 0.08959039291366935\n"
     ]
    },
    {
     "name": "stderr",
     "output_type": "stream",
     "text": [
      "1792it [00:47, 40.30it/s, Loss=0.0962, epoch=16]                          \n",
      "  0%|          | 0/1790 [00:00<?, ?it/s]"
     ]
    },
    {
     "name": "stdout",
     "output_type": "stream",
     "text": [
      "[03.11.19 20:35:02] Better model saved. Average loss: 0.08652674062177539\n"
     ]
    },
    {
     "name": "stderr",
     "output_type": "stream",
     "text": [
      "1792it [00:46, 41.62it/s, Loss=0.0914, epoch=17]                          \n",
      "  0%|          | 0/1790 [00:00<?, ?it/s]"
     ]
    },
    {
     "name": "stdout",
     "output_type": "stream",
     "text": [
      "[03.11.19 20:35:57] Better model saved. Average loss: 0.08367887018248439\n"
     ]
    },
    {
     "name": "stderr",
     "output_type": "stream",
     "text": [
      "1792it [00:47, 42.27it/s, Loss=0.0874, epoch=18]                          \n",
      "  0%|          | 0/1790 [00:00<?, ?it/s]"
     ]
    },
    {
     "name": "stdout",
     "output_type": "stream",
     "text": [
      "[03.11.19 20:36:53] Better model saved. Average loss: 0.079375702701509\n"
     ]
    },
    {
     "name": "stderr",
     "output_type": "stream",
     "text": [
      "1792it [00:47, 41.90it/s, Loss=0.0838, epoch=19]                          \n",
      "  0%|          | 0/1790 [00:00<?, ?it/s]"
     ]
    },
    {
     "name": "stdout",
     "output_type": "stream",
     "text": [
      "[03.11.19 20:37:49] Better model saved. Average loss: 0.07710762834176421\n"
     ]
    },
    {
     "name": "stderr",
     "output_type": "stream",
     "text": [
      "1792it [00:46, 41.66it/s, Loss=0.085, epoch=20]                           \n",
      "  0%|          | 0/1790 [00:00<?, ?it/s]"
     ]
    },
    {
     "name": "stdout",
     "output_type": "stream",
     "text": [
      "[03.11.19 20:38:44] Better model saved. Average loss: 0.07582869669422507\n"
     ]
    },
    {
     "name": "stderr",
     "output_type": "stream",
     "text": [
      "1792it [00:47, 41.53it/s, Loss=0.0782, epoch=21]                          \n",
      "1792it [00:46, 41.60it/s, Loss=0.0817, epoch=22]                          \n",
      "  0%|          | 0/1790 [00:00<?, ?it/s]"
     ]
    },
    {
     "name": "stdout",
     "output_type": "stream",
     "text": [
      "[03.11.19 20:40:35] Better model saved. Average loss: 0.07147688092663884\n"
     ]
    },
    {
     "name": "stderr",
     "output_type": "stream",
     "text": [
      "1792it [00:47, 41.31it/s, Loss=0.0765, epoch=23]                          \n",
      "  0%|          | 0/1790 [00:00<?, ?it/s]"
     ]
    },
    {
     "name": "stdout",
     "output_type": "stream",
     "text": [
      "[03.11.19 20:41:31] Better model saved. Average loss: 0.06901065474376082\n"
     ]
    },
    {
     "name": "stderr",
     "output_type": "stream",
     "text": [
      "1792it [00:48, 41.77it/s, Loss=0.0746, epoch=24]                          \n",
      "  0%|          | 0/1790 [00:00<?, ?it/s]"
     ]
    },
    {
     "name": "stdout",
     "output_type": "stream",
     "text": [
      "[03.11.19 20:42:28] Better model saved. Average loss: 0.06774599850177765\n"
     ]
    },
    {
     "name": "stderr",
     "output_type": "stream",
     "text": [
      "1792it [00:47, 41.26it/s, Loss=0.077, epoch=25]                           \n",
      "  0%|          | 0/1790 [00:00<?, ?it/s]"
     ]
    },
    {
     "name": "stdout",
     "output_type": "stream",
     "text": [
      "[03.11.19 20:43:24] Better model saved. Average loss: 0.0669982681516558\n"
     ]
    },
    {
     "name": "stderr",
     "output_type": "stream",
     "text": [
      "1792it [00:46, 41.49it/s, Loss=0.0764, epoch=26]                          \n",
      "1792it [00:46, 41.39it/s, Loss=0.0742, epoch=27]                          \n",
      "  0%|          | 0/1790 [00:00<?, ?it/s]"
     ]
    },
    {
     "name": "stdout",
     "output_type": "stream",
     "text": [
      "[03.11.19 20:45:14] Better model saved. Average loss: 0.06458956156857312\n"
     ]
    },
    {
     "name": "stderr",
     "output_type": "stream",
     "text": [
      "1792it [00:47, 41.18it/s, Loss=0.072, epoch=28]                           \n",
      "  0%|          | 0/1790 [00:00<?, ?it/s]"
     ]
    },
    {
     "name": "stdout",
     "output_type": "stream",
     "text": [
      "[03.11.19 20:46:11] Better model saved. Average loss: 0.06186927487142384\n"
     ]
    },
    {
     "name": "stderr",
     "output_type": "stream",
     "text": [
      "1792it [00:47, 41.84it/s, Loss=0.0709, epoch=29]                          \n",
      "1792it [00:47, 41.88it/s, Loss=0.0702, epoch=30]                          \n",
      "  0%|          | 0/1790 [00:00<?, ?it/s]"
     ]
    },
    {
     "name": "stdout",
     "output_type": "stream",
     "text": [
      "[03.11.19 20:48:02] Better model saved. Average loss: 0.059295470686629416\n"
     ]
    },
    {
     "name": "stderr",
     "output_type": "stream",
     "text": [
      "1792it [00:47, 38.11it/s, Loss=0.0673, epoch=31]                          \n",
      "1792it [00:50, 38.35it/s, Loss=0.0664, epoch=32]                          \n",
      "  0%|          | 0/1790 [00:00<?, ?it/s]"
     ]
    },
    {
     "name": "stdout",
     "output_type": "stream",
     "text": [
      "[03.11.19 20:49:58] Better model saved. Average loss: 0.05802818415686488\n"
     ]
    },
    {
     "name": "stderr",
     "output_type": "stream",
     "text": [
      "1792it [00:47, 41.94it/s, Loss=0.0642, epoch=33]                          \n",
      "1792it [00:46, 41.38it/s, Loss=0.0657, epoch=34]                          \n",
      "  0%|          | 0/1790 [00:00<?, ?it/s]"
     ]
    },
    {
     "name": "stdout",
     "output_type": "stream",
     "text": [
      "[03.11.19 20:51:50] Better model saved. Average loss: 0.05752834226004779\n"
     ]
    },
    {
     "name": "stderr",
     "output_type": "stream",
     "text": [
      "1792it [00:49, 34.49it/s, Loss=0.0635, epoch=35]                          \n",
      "  0%|          | 0/1790 [00:00<?, ?it/s]"
     ]
    },
    {
     "name": "stdout",
     "output_type": "stream",
     "text": [
      "[03.11.19 20:52:49] Better model saved. Average loss: 0.05558847151696682\n"
     ]
    },
    {
     "name": "stderr",
     "output_type": "stream",
     "text": [
      "1792it [00:47, 41.13it/s, Loss=0.0628, epoch=36]                          \n",
      "  0%|          | 0/1790 [00:00<?, ?it/s]"
     ]
    },
    {
     "name": "stdout",
     "output_type": "stream",
     "text": [
      "[03.11.19 20:53:45] Better model saved. Average loss: 0.05526039735414088\n"
     ]
    },
    {
     "name": "stderr",
     "output_type": "stream",
     "text": [
      "1792it [00:46, 42.13it/s, Loss=0.0646, epoch=37]                          \n",
      "  0%|          | 0/1790 [00:00<?, ?it/s]"
     ]
    },
    {
     "name": "stdout",
     "output_type": "stream",
     "text": [
      "[03.11.19 20:54:40] Better model saved. Average loss: 0.05508824978023767\n"
     ]
    },
    {
     "name": "stderr",
     "output_type": "stream",
     "text": [
      "1792it [00:45, 42.23it/s, Loss=0.0631, epoch=38]                          \n",
      "  0%|          | 0/1790 [00:00<?, ?it/s]"
     ]
    },
    {
     "name": "stdout",
     "output_type": "stream",
     "text": [
      "[03.11.19 20:55:34] Better model saved. Average loss: 0.05375205301679671\n"
     ]
    },
    {
     "name": "stderr",
     "output_type": "stream",
     "text": [
      "1792it [00:46, 42.17it/s, Loss=0.0655, epoch=39]                          \n",
      "  0%|          | 0/1790 [00:00<?, ?it/s]"
     ]
    },
    {
     "name": "stdout",
     "output_type": "stream",
     "text": [
      "[03.11.19 20:56:29] Better model saved. Average loss: 0.052917709853500125\n"
     ]
    },
    {
     "name": "stderr",
     "output_type": "stream",
     "text": [
      "1792it [00:45, 40.70it/s, Loss=0.0643, epoch=40]                          \n",
      "  0%|          | 0/1790 [00:00<?, ?it/s]"
     ]
    },
    {
     "name": "stdout",
     "output_type": "stream",
     "text": [
      "[03.11.19 20:57:24] Better model saved. Average loss: 0.05257785962894559\n"
     ]
    },
    {
     "name": "stderr",
     "output_type": "stream",
     "text": [
      "1792it [00:47, 41.86it/s, Loss=0.0631, epoch=41]                          \n",
      "1792it [00:46, 41.55it/s, Loss=0.0594, epoch=42]                          \n",
      "1792it [00:45, 42.58it/s, Loss=0.0589, epoch=43]                          \n",
      "  0%|          | 0/1790 [00:00<?, ?it/s]"
     ]
    },
    {
     "name": "stdout",
     "output_type": "stream",
     "text": [
      "[03.11.19 21:00:09] Better model saved. Average loss: 0.0520170081872493\n"
     ]
    },
    {
     "name": "stderr",
     "output_type": "stream",
     "text": [
      "1792it [00:45, 42.05it/s, Loss=0.0586, epoch=44]                          \n",
      "  0%|          | 0/1790 [00:00<?, ?it/s]"
     ]
    },
    {
     "name": "stdout",
     "output_type": "stream",
     "text": [
      "[03.11.19 21:01:03] Better model saved. Average loss: 0.05040223831310868\n"
     ]
    },
    {
     "name": "stderr",
     "output_type": "stream",
     "text": [
      "1792it [00:48, 41.87it/s, Loss=0.0589, epoch=45]                          \n",
      "  0%|          | 0/1790 [00:00<?, ?it/s]"
     ]
    },
    {
     "name": "stdout",
     "output_type": "stream",
     "text": [
      "[03.11.19 21:02:00] Better model saved. Average loss: 0.05019584936089814\n"
     ]
    },
    {
     "name": "stderr",
     "output_type": "stream",
     "text": [
      "1792it [00:46, 41.84it/s, Loss=0.0602, epoch=46]                          \n",
      "  0%|          | 0/1790 [00:00<?, ?it/s]"
     ]
    },
    {
     "name": "stdout",
     "output_type": "stream",
     "text": [
      "[03.11.19 21:02:55] Better model saved. Average loss: 0.049534379364922644\n"
     ]
    },
    {
     "name": "stderr",
     "output_type": "stream",
     "text": [
      "1792it [00:46, 41.90it/s, Loss=0.0581, epoch=47]                          \n",
      "  0%|          | 0/1790 [00:00<?, ?it/s]"
     ]
    },
    {
     "name": "stdout",
     "output_type": "stream",
     "text": [
      "[03.11.19 21:03:50] Better model saved. Average loss: 0.04868936254642904\n"
     ]
    },
    {
     "name": "stderr",
     "output_type": "stream",
     "text": [
      "1792it [00:47, 41.01it/s, Loss=0.0571, epoch=48]                          \n",
      "1792it [00:46, 42.26it/s, Loss=0.0593, epoch=49]                          \n",
      "  0%|          | 0/1790 [00:00<?, ?it/s]"
     ]
    },
    {
     "name": "stdout",
     "output_type": "stream",
     "text": [
      "[03.11.19 21:05:41] Better model saved. Average loss: 0.04835549648851156\n"
     ]
    },
    {
     "name": "stderr",
     "output_type": "stream",
     "text": [
      "1792it [00:47, 40.31it/s, Loss=0.0549, epoch=50]                          \n",
      "1792it [00:46, 42.19it/s, Loss=0.0534, epoch=51]                          \n",
      "1792it [00:45, 39.69it/s, Loss=0.0545, epoch=52]                          \n",
      "1792it [00:49, 40.77it/s, Loss=0.059, epoch=53]                           \n",
      "  0%|          | 0/1790 [00:00<?, ?it/s]"
     ]
    },
    {
     "name": "stdout",
     "output_type": "stream",
     "text": [
      "[03.11.19 21:09:26] Better model saved. Average loss: 0.04767448171041906\n"
     ]
    },
    {
     "name": "stderr",
     "output_type": "stream",
     "text": [
      "1792it [00:46, 41.08it/s, Loss=0.0597, epoch=54]                          \n",
      "  0%|          | 0/1790 [00:00<?, ?it/s]"
     ]
    },
    {
     "name": "stdout",
     "output_type": "stream",
     "text": [
      "[03.11.19 21:10:21] Better model saved. Average loss: 0.04706618096679449\n"
     ]
    },
    {
     "name": "stderr",
     "output_type": "stream",
     "text": [
      "1792it [00:46, 39.45it/s, Loss=0.0604, epoch=55]                          \n",
      "1792it [00:47, 39.31it/s, Loss=0.0505, epoch=56]                          \n",
      "1792it [00:46, 37.63it/s, Loss=0.0576, epoch=57]                          \n",
      "1792it [00:46, 41.71it/s, Loss=0.0523, epoch=58]                          \n",
      "  0%|          | 0/1790 [00:00<?, ?it/s]"
     ]
    },
    {
     "name": "stdout",
     "output_type": "stream",
     "text": [
      "[03.11.19 21:14:02] Better model saved. Average loss: 0.046251993253827096\n"
     ]
    },
    {
     "name": "stderr",
     "output_type": "stream",
     "text": [
      "1792it [00:46, 41.94it/s, Loss=0.0546, epoch=59]                          \n",
      "1792it [00:46, 42.05it/s, Loss=0.053, epoch=60]                           \n",
      "  0%|          | 0/1790 [00:00<?, ?it/s]"
     ]
    },
    {
     "name": "stdout",
     "output_type": "stream",
     "text": [
      "[03.11.19 21:15:52] Better model saved. Average loss: 0.0457556139677763\n"
     ]
    },
    {
     "name": "stderr",
     "output_type": "stream",
     "text": [
      "1792it [00:46, 42.24it/s, Loss=0.0536, epoch=61]                          \n",
      "  0%|          | 0/1790 [00:00<?, ?it/s]"
     ]
    },
    {
     "name": "stdout",
     "output_type": "stream",
     "text": [
      "[03.11.19 21:16:47] Better model saved. Average loss: 0.045723491720855235\n"
     ]
    },
    {
     "name": "stderr",
     "output_type": "stream",
     "text": [
      "1792it [00:46, 38.04it/s, Loss=0.0539, epoch=62]                          \n",
      "1792it [00:46, 42.01it/s, Loss=0.0492, epoch=63]                          \n",
      "  0%|          | 0/1790 [00:00<?, ?it/s]"
     ]
    },
    {
     "name": "stdout",
     "output_type": "stream",
     "text": [
      "[03.11.19 21:18:37] Better model saved. Average loss: 0.04459233111701906\n"
     ]
    },
    {
     "name": "stderr",
     "output_type": "stream",
     "text": [
      "1792it [00:46, 42.04it/s, Loss=0.0535, epoch=64]                          \n",
      "1792it [00:46, 41.65it/s, Loss=0.0497, epoch=65]                          \n",
      "  0%|          | 0/1790 [00:00<?, ?it/s]"
     ]
    },
    {
     "name": "stdout",
     "output_type": "stream",
     "text": [
      "[03.11.19 21:20:27] Better model saved. Average loss: 0.044117673113942144\n"
     ]
    },
    {
     "name": "stderr",
     "output_type": "stream",
     "text": [
      "1792it [00:46, 42.03it/s, Loss=0.0535, epoch=66]                          \n",
      "1792it [00:46, 39.40it/s, Loss=0.0482, epoch=67]                          \n",
      "1792it [00:47, 41.81it/s, Loss=0.0537, epoch=68]                          \n",
      "  0%|          | 0/1790 [00:00<?, ?it/s]"
     ]
    },
    {
     "name": "stdout",
     "output_type": "stream",
     "text": [
      "[03.11.19 21:23:12] Better model saved. Average loss: 0.04347558529116213\n"
     ]
    },
    {
     "name": "stderr",
     "output_type": "stream",
     "text": [
      "1792it [00:46, 42.06it/s, Loss=0.0528, epoch=69]                          \n",
      "1792it [00:46, 42.67it/s, Loss=0.0486, epoch=70]                          \n",
      "  0%|          | 0/1790 [00:00<?, ?it/s]"
     ]
    },
    {
     "name": "stdout",
     "output_type": "stream",
     "text": [
      "[03.11.19 21:25:02] Better model saved. Average loss: 0.04269646969623864\n"
     ]
    },
    {
     "name": "stderr",
     "output_type": "stream",
     "text": [
      "1792it [00:46, 41.90it/s, Loss=0.0491, epoch=71]                          \n",
      "  0%|          | 0/1790 [00:00<?, ?it/s]"
     ]
    },
    {
     "name": "stdout",
     "output_type": "stream",
     "text": [
      "[03.11.19 21:25:56] Better model saved. Average loss: 0.04250770546495915\n"
     ]
    },
    {
     "name": "stderr",
     "output_type": "stream",
     "text": [
      "1792it [00:46, 41.45it/s, Loss=0.0481, epoch=72]                          \n",
      "  0%|          | 0/1790 [00:00<?, ?it/s]"
     ]
    },
    {
     "name": "stdout",
     "output_type": "stream",
     "text": [
      "[03.11.19 21:26:52] Better model saved. Average loss: 0.042174744652584195\n"
     ]
    },
    {
     "name": "stderr",
     "output_type": "stream",
     "text": [
      "1792it [00:46, 41.78it/s, Loss=0.0503, epoch=73]                          \n",
      "1792it [00:46, 42.07it/s, Loss=0.0482, epoch=74]                          \n",
      "1792it [00:46, 42.00it/s, Loss=0.0496, epoch=75]                          \n",
      "1792it [00:46, 40.67it/s, Loss=0.0462, epoch=76]                          \n",
      "1792it [00:47, 39.06it/s, Loss=0.0513, epoch=77]                          \n",
      "  0%|          | 0/1790 [00:00<?, ?it/s]"
     ]
    },
    {
     "name": "stdout",
     "output_type": "stream",
     "text": [
      "[03.11.19 21:31:28] Better model saved. Average loss: 0.04131429921835661\n"
     ]
    },
    {
     "name": "stderr",
     "output_type": "stream",
     "text": [
      "1792it [00:46, 41.66it/s, Loss=0.0496, epoch=78]                          \n",
      "1792it [00:46, 41.82it/s, Loss=0.0528, epoch=79]                          \n",
      "1792it [00:46, 41.98it/s, Loss=0.0482, epoch=80]                          \n",
      "1792it [00:46, 41.91it/s, Loss=0.0459, epoch=81]                          \n",
      "1792it [00:46, 41.98it/s, Loss=0.0507, epoch=82]                          \n",
      "  0%|          | 0/1790 [00:00<?, ?it/s]"
     ]
    },
    {
     "name": "stdout",
     "output_type": "stream",
     "text": [
      "[03.11.19 21:36:03] Better model saved. Average loss: 0.041183133330196145\n"
     ]
    },
    {
     "name": "stderr",
     "output_type": "stream",
     "text": [
      "1792it [00:47, 41.30it/s, Loss=0.0516, epoch=83]                          \n",
      "  0%|          | 0/1790 [00:00<?, ?it/s]"
     ]
    },
    {
     "name": "stdout",
     "output_type": "stream",
     "text": [
      "[03.11.19 21:36:59] Better model saved. Average loss: 0.04087132061831653\n"
     ]
    },
    {
     "name": "stderr",
     "output_type": "stream",
     "text": [
      "1792it [00:47, 41.30it/s, Loss=0.0458, epoch=84]                          \n",
      "  0%|          | 0/1790 [00:00<?, ?it/s]"
     ]
    },
    {
     "name": "stdout",
     "output_type": "stream",
     "text": [
      "[03.11.19 21:37:55] Better model saved. Average loss: 0.040726291062310335\n"
     ]
    },
    {
     "name": "stderr",
     "output_type": "stream",
     "text": [
      "1792it [00:47, 35.34it/s, Loss=0.0445, epoch=85]                          \n",
      "  0%|          | 0/1790 [00:00<?, ?it/s]"
     ]
    },
    {
     "name": "stdout",
     "output_type": "stream",
     "text": [
      "[03.11.19 21:38:52] Better model saved. Average loss: 0.04002920300699771\n"
     ]
    },
    {
     "name": "stderr",
     "output_type": "stream",
     "text": [
      "1792it [00:48, 37.99it/s, Loss=0.0483, epoch=86]                          \n",
      "  0%|          | 0/1790 [00:00<?, ?it/s]"
     ]
    },
    {
     "name": "stdout",
     "output_type": "stream",
     "text": [
      "[03.11.19 21:39:50] Better model saved. Average loss: 0.0394084217492491\n"
     ]
    },
    {
     "name": "stderr",
     "output_type": "stream",
     "text": [
      "1792it [00:47, 41.09it/s, Loss=0.0497, epoch=87]                          \n",
      "1792it [00:48, 38.56it/s, Loss=0.0476, epoch=88]                          \n",
      "1792it [00:48, 40.16it/s, Loss=0.0505, epoch=89]                          \n",
      "1792it [00:48, 41.99it/s, Loss=0.046, epoch=90]                           \n",
      "  0%|          | 0/1790 [00:00<?, ?it/s]"
     ]
    },
    {
     "name": "stdout",
     "output_type": "stream",
     "text": [
      "[03.11.19 21:43:39] Better model saved. Average loss: 0.038861091062426564\n"
     ]
    },
    {
     "name": "stderr",
     "output_type": "stream",
     "text": [
      "1792it [00:46, 41.58it/s, Loss=0.0461, epoch=91]                          \n",
      "1792it [00:46, 41.80it/s, Loss=0.0437, epoch=92]                          \n",
      "1792it [00:46, 41.76it/s, Loss=0.0466, epoch=93]                          \n",
      "1792it [00:46, 41.79it/s, Loss=0.0461, epoch=94]                          \n",
      "1792it [00:46, 41.91it/s, Loss=0.0437, epoch=95]                          \n",
      "  0%|          | 0/1790 [00:00<?, ?it/s]"
     ]
    },
    {
     "name": "stdout",
     "output_type": "stream",
     "text": [
      "[03.11.19 21:48:14] Better model saved. Average loss: 0.0384694657754153\n"
     ]
    },
    {
     "name": "stderr",
     "output_type": "stream",
     "text": [
      "1792it [00:46, 41.73it/s, Loss=0.0428, epoch=96]                          \n",
      "1792it [00:46, 42.21it/s, Loss=0.0448, epoch=97]                          \n",
      "1792it [00:46, 41.86it/s, Loss=0.0435, epoch=98]                          \n",
      "1792it [00:47, 42.05it/s, Loss=0.0455, epoch=99]                          \n",
      "1792it [00:46, 41.86it/s, Loss=0.0424, epoch=100]                          \n",
      "1792it [00:46, 39.76it/s, Loss=0.0433, epoch=101]                          \n",
      "  0%|          | 0/1790 [00:00<?, ?it/s]"
     ]
    },
    {
     "name": "stdout",
     "output_type": "stream",
     "text": [
      "[03.11.19 21:53:44] Better model saved. Average loss: 0.03817618717439473\n"
     ]
    },
    {
     "name": "stderr",
     "output_type": "stream",
     "text": [
      "1792it [00:47, 41.65it/s, Loss=0.048, epoch=102]                           \n",
      "1792it [00:46, 41.63it/s, Loss=0.0479, epoch=103]                          \n",
      "1792it [00:47, 42.13it/s, Loss=0.0442, epoch=104]                          \n",
      "1792it [00:47, 41.51it/s, Loss=0.0397, epoch=105]                          \n",
      "  0%|          | 0/1790 [00:00<?, ?it/s]"
     ]
    },
    {
     "name": "stdout",
     "output_type": "stream",
     "text": [
      "[03.11.19 21:57:27] Better model saved. Average loss: 0.037472418928518894\n"
     ]
    },
    {
     "name": "stderr",
     "output_type": "stream",
     "text": [
      "1792it [00:48, 41.51it/s, Loss=0.0473, epoch=106]                          \n",
      "1792it [00:46, 41.61it/s, Loss=0.0389, epoch=107]                          \n",
      "1792it [00:47, 41.51it/s, Loss=0.0451, epoch=108]                          \n",
      "1792it [00:47, 41.99it/s, Loss=0.0432, epoch=109]                          \n",
      "1792it [00:46, 42.18it/s, Loss=0.041, epoch=110]                           \n",
      "  0%|          | 0/1790 [00:00<?, ?it/s]"
     ]
    },
    {
     "name": "stdout",
     "output_type": "stream",
     "text": [
      "[03.11.19 22:02:06] Better model saved. Average loss: 0.03686317643150687\n"
     ]
    },
    {
     "name": "stderr",
     "output_type": "stream",
     "text": [
      "1792it [00:47, 41.47it/s, Loss=0.04, epoch=111]                            \n",
      "  0%|          | 0/1790 [00:00<?, ?it/s]"
     ]
    },
    {
     "name": "stdout",
     "output_type": "stream",
     "text": [
      "[03.11.19 22:03:02] Better model saved. Average loss: 0.036822915496304634\n"
     ]
    },
    {
     "name": "stderr",
     "output_type": "stream",
     "text": [
      "1792it [00:46, 42.26it/s, Loss=0.043, epoch=112]                           \n",
      "  0%|          | 0/1790 [00:00<?, ?it/s]"
     ]
    },
    {
     "name": "stdout",
     "output_type": "stream",
     "text": [
      "[03.11.19 22:03:56] Better model saved. Average loss: 0.03660691045224666\n"
     ]
    },
    {
     "name": "stderr",
     "output_type": "stream",
     "text": [
      "1792it [00:46, 41.69it/s, Loss=0.0423, epoch=113]                          \n",
      "1792it [00:46, 39.41it/s, Loss=0.0421, epoch=114]                          \n",
      "1792it [00:49, 41.68it/s, Loss=0.0411, epoch=115]                          \n",
      "1792it [00:46, 42.32it/s, Loss=0.0438, epoch=116]                          \n",
      "  0%|          | 0/1790 [00:00<?, ?it/s]"
     ]
    },
    {
     "name": "stdout",
     "output_type": "stream",
     "text": [
      "[03.11.19 22:07:39] Better model saved. Average loss: 0.0361731244251132\n"
     ]
    },
    {
     "name": "stderr",
     "output_type": "stream",
     "text": [
      "1792it [00:46, 38.47it/s, Loss=0.0418, epoch=117]                          \n",
      "1792it [00:46, 39.29it/s, Loss=0.0406, epoch=118]                          \n",
      "1792it [00:46, 41.65it/s, Loss=0.0451, epoch=119]                          \n",
      "1792it [00:46, 41.58it/s, Loss=0.0426, epoch=120]                          \n",
      "1792it [00:47, 41.58it/s, Loss=0.0374, epoch=121]                          \n",
      "  0%|          | 0/1790 [00:00<?, ?it/s]"
     ]
    },
    {
     "name": "stdout",
     "output_type": "stream",
     "text": [
      "[03.11.19 22:12:14] Better model saved. Average loss: 0.03607955793850124\n"
     ]
    },
    {
     "name": "stderr",
     "output_type": "stream",
     "text": [
      "1792it [00:47, 42.29it/s, Loss=0.0399, epoch=122]                          \n",
      "  0%|          | 0/1790 [00:00<?, ?it/s]"
     ]
    },
    {
     "name": "stdout",
     "output_type": "stream",
     "text": [
      "[03.11.19 22:13:10] Better model saved. Average loss: 0.035865929117426275\n"
     ]
    },
    {
     "name": "stderr",
     "output_type": "stream",
     "text": [
      "1792it [00:46, 41.92it/s, Loss=0.0407, epoch=123]                          \n",
      "1792it [00:45, 36.67it/s, Loss=0.0437, epoch=124]                          \n",
      "  0%|          | 0/1790 [00:00<?, ?it/s]"
     ]
    },
    {
     "name": "stdout",
     "output_type": "stream",
     "text": [
      "[03.11.19 22:15:00] Better model saved. Average loss: 0.0355524277780205\n"
     ]
    },
    {
     "name": "stderr",
     "output_type": "stream",
     "text": [
      "1792it [00:46, 41.99it/s, Loss=0.0418, epoch=125]                          \n",
      "  0%|          | 0/1790 [00:00<?, ?it/s]"
     ]
    },
    {
     "name": "stdout",
     "output_type": "stream",
     "text": [
      "[03.11.19 22:15:55] Better model saved. Average loss: 0.03494414046872407\n"
     ]
    },
    {
     "name": "stderr",
     "output_type": "stream",
     "text": [
      "1792it [00:47, 41.81it/s, Loss=0.0388, epoch=126]                          \n",
      "1792it [00:46, 41.58it/s, Loss=0.0378, epoch=127]                          \n",
      "1792it [00:47, 38.54it/s, Loss=0.0417, epoch=128]                          \n",
      "1792it [00:46, 38.66it/s, Loss=0.0429, epoch=129]                          \n",
      "1792it [00:47, 41.00it/s, Loss=0.0376, epoch=130]                          \n",
      "1792it [00:47, 36.62it/s, Loss=0.0398, epoch=131]                          \n",
      "1792it [00:47, 35.90it/s, Loss=0.0381, epoch=132]                          \n",
      "1792it [00:46, 42.00it/s, Loss=0.0451, epoch=133]                          \n",
      "1792it [00:46, 41.12it/s, Loss=0.039, epoch=134]                           \n",
      "1792it [00:46, 41.58it/s, Loss=0.0418, epoch=135]                          \n",
      "  0%|          | 0/1790 [00:00<?, ?it/s]"
     ]
    },
    {
     "name": "stdout",
     "output_type": "stream",
     "text": [
      "[03.11.19 22:25:12] Better model saved. Average loss: 0.034263549093157056\n"
     ]
    },
    {
     "name": "stderr",
     "output_type": "stream",
     "text": [
      "1792it [00:46, 42.11it/s, Loss=0.0361, epoch=136]                          \n",
      "1792it [00:47, 40.76it/s, Loss=0.0383, epoch=137]                          \n",
      "1792it [00:47, 40.20it/s, Loss=0.0378, epoch=138]                          \n",
      "1792it [00:47, 41.86it/s, Loss=0.0419, epoch=139]                          \n",
      "  0%|          | 0/1790 [00:00<?, ?it/s]"
     ]
    },
    {
     "name": "stdout",
     "output_type": "stream",
     "text": [
      "[03.11.19 22:28:53] Better model saved. Average loss: 0.03374629383906722\n"
     ]
    },
    {
     "name": "stderr",
     "output_type": "stream",
     "text": [
      "1792it [00:46, 41.55it/s, Loss=0.0353, epoch=140]                          \n",
      "  0%|          | 0/1790 [00:00<?, ?it/s]"
     ]
    },
    {
     "name": "stdout",
     "output_type": "stream",
     "text": [
      "[03.11.19 22:29:49] Better model saved. Average loss: 0.03366895855870098\n"
     ]
    },
    {
     "name": "stderr",
     "output_type": "stream",
     "text": [
      "1792it [00:46, 41.39it/s, Loss=0.0403, epoch=141]                          \n",
      "1792it [00:46, 41.50it/s, Loss=0.0376, epoch=142]                          \n",
      "  0%|          | 0/1790 [00:00<?, ?it/s]"
     ]
    },
    {
     "name": "stdout",
     "output_type": "stream",
     "text": [
      "[03.11.19 22:31:39] Better model saved. Average loss: 0.03339470105711371\n"
     ]
    },
    {
     "name": "stderr",
     "output_type": "stream",
     "text": [
      "1792it [00:46, 36.31it/s, Loss=0.0406, epoch=143]                          \n",
      "1792it [00:47, 41.93it/s, Loss=0.0344, epoch=144]                          \n",
      "1792it [00:46, 40.72it/s, Loss=0.0372, epoch=145]                          \n",
      "1792it [00:47, 41.51it/s, Loss=0.0332, epoch=146]                          \n",
      "1792it [00:46, 41.73it/s, Loss=0.036, epoch=147]                           \n",
      "1792it [00:47, 41.63it/s, Loss=0.0357, epoch=148]                          \n",
      "  0%|          | 0/1790 [00:00<?, ?it/s]"
     ]
    },
    {
     "name": "stdout",
     "output_type": "stream",
     "text": [
      "[03.11.19 22:37:13] Better model saved. Average loss: 0.03311666129156947\n"
     ]
    },
    {
     "name": "stderr",
     "output_type": "stream",
     "text": [
      " 31%|███▏      | 560/1790 [00:15<00:32, 37.37it/s, Loss=0.0374, epoch=149]\n"
     ]
    },
    {
     "ename": "KeyboardInterrupt",
     "evalue": "",
     "output_type": "error",
     "traceback": [
      "\u001b[0;31m---------------------------------------------------------------------------\u001b[0m",
      "\u001b[0;31mKeyboardInterrupt\u001b[0m                         Traceback (most recent call last)",
      "\u001b[0;32m<ipython-input-13-be33d982436b>\u001b[0m in \u001b[0;36m<module>\u001b[0;34m\u001b[0m\n\u001b[1;32m     13\u001b[0m     \u001b[0;32mwith\u001b[0m \u001b[0mtorch\u001b[0m\u001b[0;34m.\u001b[0m\u001b[0menable_grad\u001b[0m\u001b[0;34m(\u001b[0m\u001b[0;34m)\u001b[0m\u001b[0;34m,\u001b[0m\u001b[0;31m \u001b[0m\u001b[0;31m\\\u001b[0m\u001b[0;34m\u001b[0m\u001b[0;34m\u001b[0m\u001b[0m\n\u001b[1;32m     14\u001b[0m             \u001b[0mtqdm\u001b[0m\u001b[0;34m(\u001b[0m\u001b[0mtotal\u001b[0m\u001b[0;34m=\u001b[0m\u001b[0mlen\u001b[0m\u001b[0;34m(\u001b[0m\u001b[0mtrain_loader\u001b[0m\u001b[0;34m.\u001b[0m\u001b[0mdataset\u001b[0m\u001b[0;34m)\u001b[0m\u001b[0;34m)\u001b[0m \u001b[0;32mas\u001b[0m \u001b[0mprogress_bar\u001b[0m\u001b[0;34m:\u001b[0m\u001b[0;34m\u001b[0m\u001b[0;34m\u001b[0m\u001b[0m\n\u001b[0;32m---> 15\u001b[0;31m         \u001b[0;32mfor\u001b[0m \u001b[0mori\u001b[0m\u001b[0;34m,\u001b[0m \u001b[0mss\u001b[0m \u001b[0;32min\u001b[0m \u001b[0mtrain_loader\u001b[0m\u001b[0;34m:\u001b[0m\u001b[0;34m\u001b[0m\u001b[0;34m\u001b[0m\u001b[0m\n\u001b[0m\u001b[1;32m     16\u001b[0m             \u001b[0mori\u001b[0m \u001b[0;34m=\u001b[0m \u001b[0mori\u001b[0m\u001b[0;34m.\u001b[0m\u001b[0mto\u001b[0m\u001b[0;34m(\u001b[0m\u001b[0mdevice\u001b[0m\u001b[0;34m)\u001b[0m\u001b[0;34m\u001b[0m\u001b[0;34m\u001b[0m\u001b[0m\n\u001b[1;32m     17\u001b[0m             \u001b[0mss\u001b[0m \u001b[0;34m=\u001b[0m \u001b[0mss\u001b[0m\u001b[0;34m.\u001b[0m\u001b[0mto\u001b[0m\u001b[0;34m(\u001b[0m\u001b[0mdevice\u001b[0m\u001b[0;34m)\u001b[0m\u001b[0;34m\u001b[0m\u001b[0;34m\u001b[0m\u001b[0m\n",
      "\u001b[0;32m~/anaconda3/lib/python3.7/site-packages/torch/utils/data/dataloader.py\u001b[0m in \u001b[0;36m__next__\u001b[0;34m(self)\u001b[0m\n\u001b[1;32m    613\u001b[0m         \u001b[0;32mif\u001b[0m \u001b[0mself\u001b[0m\u001b[0;34m.\u001b[0m\u001b[0mnum_workers\u001b[0m \u001b[0;34m==\u001b[0m \u001b[0;36m0\u001b[0m\u001b[0;34m:\u001b[0m  \u001b[0;31m# same-process loading\u001b[0m\u001b[0;34m\u001b[0m\u001b[0;34m\u001b[0m\u001b[0m\n\u001b[1;32m    614\u001b[0m             \u001b[0mindices\u001b[0m \u001b[0;34m=\u001b[0m \u001b[0mnext\u001b[0m\u001b[0;34m(\u001b[0m\u001b[0mself\u001b[0m\u001b[0;34m.\u001b[0m\u001b[0msample_iter\u001b[0m\u001b[0;34m)\u001b[0m  \u001b[0;31m# may raise StopIteration\u001b[0m\u001b[0;34m\u001b[0m\u001b[0;34m\u001b[0m\u001b[0m\n\u001b[0;32m--> 615\u001b[0;31m             \u001b[0mbatch\u001b[0m \u001b[0;34m=\u001b[0m \u001b[0mself\u001b[0m\u001b[0;34m.\u001b[0m\u001b[0mcollate_fn\u001b[0m\u001b[0;34m(\u001b[0m\u001b[0;34m[\u001b[0m\u001b[0mself\u001b[0m\u001b[0;34m.\u001b[0m\u001b[0mdataset\u001b[0m\u001b[0;34m[\u001b[0m\u001b[0mi\u001b[0m\u001b[0;34m]\u001b[0m \u001b[0;32mfor\u001b[0m \u001b[0mi\u001b[0m \u001b[0;32min\u001b[0m \u001b[0mindices\u001b[0m\u001b[0;34m]\u001b[0m\u001b[0;34m)\u001b[0m\u001b[0;34m\u001b[0m\u001b[0;34m\u001b[0m\u001b[0m\n\u001b[0m\u001b[1;32m    616\u001b[0m             \u001b[0;32mif\u001b[0m \u001b[0mself\u001b[0m\u001b[0;34m.\u001b[0m\u001b[0mpin_memory\u001b[0m\u001b[0;34m:\u001b[0m\u001b[0;34m\u001b[0m\u001b[0;34m\u001b[0m\u001b[0m\n\u001b[1;32m    617\u001b[0m                 \u001b[0mbatch\u001b[0m \u001b[0;34m=\u001b[0m \u001b[0mpin_memory_batch\u001b[0m\u001b[0;34m(\u001b[0m\u001b[0mbatch\u001b[0m\u001b[0;34m)\u001b[0m\u001b[0;34m\u001b[0m\u001b[0;34m\u001b[0m\u001b[0m\n",
      "\u001b[0;32m~/anaconda3/lib/python3.7/site-packages/torch/utils/data/dataloader.py\u001b[0m in \u001b[0;36m<listcomp>\u001b[0;34m(.0)\u001b[0m\n\u001b[1;32m    613\u001b[0m         \u001b[0;32mif\u001b[0m \u001b[0mself\u001b[0m\u001b[0;34m.\u001b[0m\u001b[0mnum_workers\u001b[0m \u001b[0;34m==\u001b[0m \u001b[0;36m0\u001b[0m\u001b[0;34m:\u001b[0m  \u001b[0;31m# same-process loading\u001b[0m\u001b[0;34m\u001b[0m\u001b[0;34m\u001b[0m\u001b[0m\n\u001b[1;32m    614\u001b[0m             \u001b[0mindices\u001b[0m \u001b[0;34m=\u001b[0m \u001b[0mnext\u001b[0m\u001b[0;34m(\u001b[0m\u001b[0mself\u001b[0m\u001b[0;34m.\u001b[0m\u001b[0msample_iter\u001b[0m\u001b[0;34m)\u001b[0m  \u001b[0;31m# may raise StopIteration\u001b[0m\u001b[0;34m\u001b[0m\u001b[0;34m\u001b[0m\u001b[0m\n\u001b[0;32m--> 615\u001b[0;31m             \u001b[0mbatch\u001b[0m \u001b[0;34m=\u001b[0m \u001b[0mself\u001b[0m\u001b[0;34m.\u001b[0m\u001b[0mcollate_fn\u001b[0m\u001b[0;34m(\u001b[0m\u001b[0;34m[\u001b[0m\u001b[0mself\u001b[0m\u001b[0;34m.\u001b[0m\u001b[0mdataset\u001b[0m\u001b[0;34m[\u001b[0m\u001b[0mi\u001b[0m\u001b[0;34m]\u001b[0m \u001b[0;32mfor\u001b[0m \u001b[0mi\u001b[0m \u001b[0;32min\u001b[0m \u001b[0mindices\u001b[0m\u001b[0;34m]\u001b[0m\u001b[0;34m)\u001b[0m\u001b[0;34m\u001b[0m\u001b[0;34m\u001b[0m\u001b[0m\n\u001b[0m\u001b[1;32m    616\u001b[0m             \u001b[0;32mif\u001b[0m \u001b[0mself\u001b[0m\u001b[0;34m.\u001b[0m\u001b[0mpin_memory\u001b[0m\u001b[0;34m:\u001b[0m\u001b[0;34m\u001b[0m\u001b[0;34m\u001b[0m\u001b[0m\n\u001b[1;32m    617\u001b[0m                 \u001b[0mbatch\u001b[0m \u001b[0;34m=\u001b[0m \u001b[0mpin_memory_batch\u001b[0m\u001b[0;34m(\u001b[0m\u001b[0mbatch\u001b[0m\u001b[0;34m)\u001b[0m\u001b[0;34m\u001b[0m\u001b[0;34m\u001b[0m\u001b[0m\n",
      "\u001b[0;32m~/Documents/CS248/DLSS_vae/util.py\u001b[0m in \u001b[0;36m__getitem__\u001b[0;34m(self, idx)\u001b[0m\n\u001b[1;32m     97\u001b[0m \u001b[0;34m\u001b[0m\u001b[0m\n\u001b[1;32m     98\u001b[0m         \u001b[0;32mif\u001b[0m \u001b[0mself\u001b[0m\u001b[0;34m.\u001b[0m\u001b[0mtrain_transform\u001b[0m\u001b[0;34m:\u001b[0m\u001b[0;34m\u001b[0m\u001b[0;34m\u001b[0m\u001b[0m\n\u001b[0;32m---> 99\u001b[0;31m             \u001b[0mori\u001b[0m \u001b[0;34m=\u001b[0m \u001b[0mself\u001b[0m\u001b[0;34m.\u001b[0m\u001b[0mtrain_transform\u001b[0m\u001b[0;34m(\u001b[0m\u001b[0mori\u001b[0m\u001b[0;34m)\u001b[0m\u001b[0;34m\u001b[0m\u001b[0;34m\u001b[0m\u001b[0m\n\u001b[0m\u001b[1;32m    100\u001b[0m \u001b[0;34m\u001b[0m\u001b[0m\n\u001b[1;32m    101\u001b[0m         \u001b[0;32mif\u001b[0m \u001b[0mself\u001b[0m\u001b[0;34m.\u001b[0m\u001b[0mtransform\u001b[0m\u001b[0;34m:\u001b[0m\u001b[0;34m\u001b[0m\u001b[0;34m\u001b[0m\u001b[0m\n",
      "\u001b[0;32m~/anaconda3/lib/python3.7/site-packages/torchvision/transforms/transforms.py\u001b[0m in \u001b[0;36m__call__\u001b[0;34m(self, img)\u001b[0m\n\u001b[1;32m    281\u001b[0m \u001b[0;34m\u001b[0m\u001b[0m\n\u001b[1;32m    282\u001b[0m     \u001b[0;32mdef\u001b[0m \u001b[0m__call__\u001b[0m\u001b[0;34m(\u001b[0m\u001b[0mself\u001b[0m\u001b[0;34m,\u001b[0m \u001b[0mimg\u001b[0m\u001b[0;34m)\u001b[0m\u001b[0;34m:\u001b[0m\u001b[0;34m\u001b[0m\u001b[0;34m\u001b[0m\u001b[0m\n\u001b[0;32m--> 283\u001b[0;31m         \u001b[0;32mreturn\u001b[0m \u001b[0mself\u001b[0m\u001b[0;34m.\u001b[0m\u001b[0mlambd\u001b[0m\u001b[0;34m(\u001b[0m\u001b[0mimg\u001b[0m\u001b[0;34m)\u001b[0m\u001b[0;34m\u001b[0m\u001b[0;34m\u001b[0m\u001b[0m\n\u001b[0m\u001b[1;32m    284\u001b[0m \u001b[0;34m\u001b[0m\u001b[0m\n\u001b[1;32m    285\u001b[0m     \u001b[0;32mdef\u001b[0m \u001b[0m__repr__\u001b[0m\u001b[0;34m(\u001b[0m\u001b[0mself\u001b[0m\u001b[0;34m)\u001b[0m\u001b[0;34m:\u001b[0m\u001b[0;34m\u001b[0m\u001b[0;34m\u001b[0m\u001b[0m\n",
      "\u001b[0;32m<ipython-input-6-14648e406ca8>\u001b[0m in \u001b[0;36msap\u001b[0;34m(img)\u001b[0m\n\u001b[1;32m      8\u001b[0m     \u001b[0mrd_w\u001b[0m \u001b[0;34m=\u001b[0m \u001b[0;34m[\u001b[0m\u001b[0mnum\u001b[0m \u001b[0;34m%\u001b[0m \u001b[0mw\u001b[0m \u001b[0;32mfor\u001b[0m \u001b[0mnum\u001b[0m \u001b[0;32min\u001b[0m \u001b[0mrd\u001b[0m\u001b[0;34m]\u001b[0m\u001b[0;34m\u001b[0m\u001b[0;34m\u001b[0m\u001b[0m\n\u001b[1;32m      9\u001b[0m     \u001b[0;32mfor\u001b[0m \u001b[0midx\u001b[0m \u001b[0;32min\u001b[0m \u001b[0mrange\u001b[0m\u001b[0;34m(\u001b[0m\u001b[0mi\u001b[0m\u001b[0;34m)\u001b[0m\u001b[0;34m:\u001b[0m\u001b[0;34m\u001b[0m\u001b[0;34m\u001b[0m\u001b[0m\n\u001b[0;32m---> 10\u001b[0;31m         \u001b[0msap\u001b[0m \u001b[0;34m=\u001b[0m \u001b[0mint\u001b[0m\u001b[0;34m(\u001b[0m\u001b[0mrandom\u001b[0m\u001b[0;34m.\u001b[0m\u001b[0mrandint\u001b[0m\u001b[0;34m(\u001b[0m\u001b[0;36m0\u001b[0m\u001b[0;34m,\u001b[0m\u001b[0;36m1\u001b[0m\u001b[0;34m)\u001b[0m \u001b[0;34m*\u001b[0m \u001b[0;36m255\u001b[0m\u001b[0;34m)\u001b[0m\u001b[0;34m\u001b[0m\u001b[0;34m\u001b[0m\u001b[0m\n\u001b[0m\u001b[1;32m     11\u001b[0m         \u001b[0mimgp\u001b[0m\u001b[0;34m[\u001b[0m\u001b[0mrd_h\u001b[0m\u001b[0;34m[\u001b[0m\u001b[0midx\u001b[0m\u001b[0;34m]\u001b[0m\u001b[0;34m,\u001b[0m\u001b[0mrd_w\u001b[0m\u001b[0;34m[\u001b[0m\u001b[0midx\u001b[0m\u001b[0;34m]\u001b[0m\u001b[0;34m]\u001b[0m \u001b[0;34m=\u001b[0m \u001b[0;34m(\u001b[0m\u001b[0msap\u001b[0m\u001b[0;34m,\u001b[0m\u001b[0msap\u001b[0m\u001b[0;34m,\u001b[0m\u001b[0msap\u001b[0m\u001b[0;34m)\u001b[0m\u001b[0;34m\u001b[0m\u001b[0;34m\u001b[0m\u001b[0m\n\u001b[1;32m     12\u001b[0m \u001b[0;34m\u001b[0m\u001b[0m\n",
      "\u001b[0;32m~/anaconda3/lib/python3.7/random.py\u001b[0m in \u001b[0;36mrandint\u001b[0;34m(self, a, b)\u001b[0m\n\u001b[1;32m    220\u001b[0m         \"\"\"\n\u001b[1;32m    221\u001b[0m \u001b[0;34m\u001b[0m\u001b[0m\n\u001b[0;32m--> 222\u001b[0;31m         \u001b[0;32mreturn\u001b[0m \u001b[0mself\u001b[0m\u001b[0;34m.\u001b[0m\u001b[0mrandrange\u001b[0m\u001b[0;34m(\u001b[0m\u001b[0ma\u001b[0m\u001b[0;34m,\u001b[0m \u001b[0mb\u001b[0m\u001b[0;34m+\u001b[0m\u001b[0;36m1\u001b[0m\u001b[0;34m)\u001b[0m\u001b[0;34m\u001b[0m\u001b[0;34m\u001b[0m\u001b[0m\n\u001b[0m\u001b[1;32m    223\u001b[0m \u001b[0;34m\u001b[0m\u001b[0m\n\u001b[1;32m    224\u001b[0m     def _randbelow(self, n, int=int, maxsize=1<<BPF, type=type,\n",
      "\u001b[0;32m~/anaconda3/lib/python3.7/random.py\u001b[0m in \u001b[0;36mrandrange\u001b[0;34m(self, start, stop, step, _int)\u001b[0m\n\u001b[1;32m    182\u001b[0m         \u001b[0;31m# This code is a bit messy to make it fast for the\u001b[0m\u001b[0;34m\u001b[0m\u001b[0;34m\u001b[0m\u001b[0;34m\u001b[0m\u001b[0m\n\u001b[1;32m    183\u001b[0m         \u001b[0;31m# common case while still doing adequate error checking.\u001b[0m\u001b[0;34m\u001b[0m\u001b[0;34m\u001b[0m\u001b[0;34m\u001b[0m\u001b[0m\n\u001b[0;32m--> 184\u001b[0;31m         \u001b[0mistart\u001b[0m \u001b[0;34m=\u001b[0m \u001b[0m_int\u001b[0m\u001b[0;34m(\u001b[0m\u001b[0mstart\u001b[0m\u001b[0;34m)\u001b[0m\u001b[0;34m\u001b[0m\u001b[0;34m\u001b[0m\u001b[0m\n\u001b[0m\u001b[1;32m    185\u001b[0m         \u001b[0;32mif\u001b[0m \u001b[0mistart\u001b[0m \u001b[0;34m!=\u001b[0m \u001b[0mstart\u001b[0m\u001b[0;34m:\u001b[0m\u001b[0;34m\u001b[0m\u001b[0;34m\u001b[0m\u001b[0m\n\u001b[1;32m    186\u001b[0m             \u001b[0;32mraise\u001b[0m \u001b[0mValueError\u001b[0m\u001b[0;34m(\u001b[0m\u001b[0;34m\"non-integer arg 1 for randrange()\"\u001b[0m\u001b[0;34m)\u001b[0m\u001b[0;34m\u001b[0m\u001b[0;34m\u001b[0m\u001b[0m\n",
      "\u001b[0;31mKeyboardInterrupt\u001b[0m: "
     ]
    }
   ],
   "source": [
    "# Train rae\n",
    "log.info('Training')\n",
    "step = 0\n",
    "epoch = 0\n",
    "best_dev_loss = 1e9\n",
    "batch_size = args.batch_size\n",
    "dev_sv_idx = random.randint(0,batch_size-1)\n",
    "model.train()\n",
    "while epoch != args.num_epochs:\n",
    "    epoch += 1\n",
    "#     log.info('Starting epoch {}...'.format(epoch))\n",
    "\n",
    "    with torch.enable_grad(), \\\n",
    "            tqdm(total=len(train_loader.dataset)) as progress_bar:\n",
    "        for ori, ss in train_loader:\n",
    "            ori = ori.to(device)\n",
    "            ss = ss.to(device)\n",
    "            model = model.to(device)\n",
    "            model.set_input(ori)\n",
    "            model.reset_hidden()\n",
    "\n",
    "            output = model()\n",
    "            loss, ls, lg = loss_fn_rae(output, ss)\n",
    "            loss_val = loss.item()\n",
    "            optimizer.zero_grad()\n",
    "            loss.backward()\n",
    "            # nn.utils.clip_grad_norm_(model.parameters(), args.max_grad_norm)\n",
    "            optimizer.step()\n",
    "\n",
    "            step += batch_size\n",
    "            progress_bar.update(batch_size)\n",
    "            progress_bar.set_postfix(epoch=epoch, Loss=loss_val)\n",
    "\n",
    "    # Evaluate every epoch and save the best model\n",
    "    model.eval()\n",
    "    total_loss_val = 0\n",
    "    for ori_dev, ss_dev in dev_loader:\n",
    "        ori_dev = ori_dev.to(device)\n",
    "        ss_dev = ss_dev.to(device)\n",
    "        model = model.to(device)\n",
    "        model.set_input(ori_dev)\n",
    "        model.reset_hidden()\n",
    "\n",
    "        output_dev = model()\n",
    "        loss, ls, lg = loss_fn_rae(output_dev, ss_dev)\n",
    "        total_loss_val += loss.item()\n",
    "    if total_loss_val < best_dev_loss:\n",
    "        best_dev_loss = total_loss_val\n",
    "        torch.save(model.state_dict(), \"best_rae.pt\")\n",
    "        log.info(\"Better model saved. Average loss: \" + str(total_loss_val/len(dev_loader)))\n",
    "        # Save the new better dev image\n",
    "        plt.imsave(\"dev_png/epoch_{}.png\".format(epoch), np.asarray(tensor2pil(output_dev[dev_sv_idx].cpu().detach())))\n",
    "\n",
    "    if epoch == 1:\n",
    "        plt.imsave(\"dev_png/origin.png\", np.asarray(tensor2pil(ori_dev[dev_sv_idx].cpu().detach())))\n",
    "        plt.imsave(\"dev_png/ss.png\", np.asarray(tensor2pil(ss_dev[dev_sv_idx].cpu().detach())))\n",
    "    \n",
    "    model.train()"
   ]
  },
  {
   "cell_type": "code",
   "execution_count": 45,
   "metadata": {},
   "outputs": [
    {
     "name": "stdout",
     "output_type": "stream",
     "text": [
      "torch.Size([4, 3, 256, 256])\n",
      "80\n",
      "634\n",
      "8\n"
     ]
    }
   ],
   "source": [
    "print(ori_dev.shape)\n",
    "print(len(dev_loader))\n",
    "print(len(dev_dataset))\n",
    "print(args.batch_size)\n",
    "# print(dev_loader)"
   ]
  },
  {
   "cell_type": "code",
   "execution_count": 14,
   "metadata": {
    "scrolled": false
   },
   "outputs": [
    {
     "data": {
      "text/plain": [
       "<matplotlib.image.AxesImage at 0x7f3d20086668>"
      ]
     },
     "execution_count": 14,
     "metadata": {},
     "output_type": "execute_result"
    },
    {
     "data": {
      "image/png": "[encoded data removed]",
      "text/plain": [
       "<Figure size 1440x1440 with 2 Axes>"
      ]
     },
     "metadata": {
      "needs_background": "light"
     },
     "output_type": "display_data"
    }
   ],
   "source": [
    "idx = random.randint(0, len(dev_dataset))\n",
    "ori_d_t, ss_d_t = dev_dataset[idx]\n",
    "ori_d_i, ss_d_i = tensor2pil(ori_d_t), tensor2pil(ss_d_t)\n",
    "# print(train_dataset[0])\n",
    "%matplotlib inline\n",
    "plt.figure(figsize = (20,20))\n",
    "plt.subplot(1,2,1)\n",
    "plt.imshow(np.asarray(ori_d_i))\n",
    "plt.subplot(1,2,2)\n",
    "plt.imshow(np.asarray(ss_d_i))"
   ]
  },
  {
   "cell_type": "code",
   "execution_count": 14,
   "metadata": {},
   "outputs": [
    {
     "name": "stdout",
     "output_type": "stream",
     "text": [
      "torch.Size([3, 256, 256])\n",
      "torch.Size([3, 256, 256])\n"
     ]
    }
   ],
   "source": [
    "print(output[0].shape)\n",
    "print(ss[0].shape)"
   ]
  },
  {
   "cell_type": "code",
   "execution_count": 16,
   "metadata": {
    "scrolled": false
   },
   "outputs": [
    {
     "ename": "NameError",
     "evalue": "name 'ori' is not defined",
     "output_type": "error",
     "traceback": [
      "\u001b[0;31m---------------------------------------------------------------------------\u001b[0m",
      "\u001b[0;31mNameError\u001b[0m                                 Traceback (most recent call last)",
      "\u001b[0;32m<ipython-input-16-c45129c6ad0d>\u001b[0m in \u001b[0;36m<module>\u001b[0;34m\u001b[0m\n\u001b[1;32m      1\u001b[0m \u001b[0mmodel\u001b[0m\u001b[0;34m.\u001b[0m\u001b[0meval\u001b[0m\u001b[0;34m(\u001b[0m\u001b[0;34m)\u001b[0m\u001b[0;34m\u001b[0m\u001b[0;34m\u001b[0m\u001b[0m\n\u001b[1;32m      2\u001b[0m \u001b[0midx\u001b[0m \u001b[0;34m=\u001b[0m \u001b[0;36m2\u001b[0m\u001b[0;34m\u001b[0m\u001b[0;34m\u001b[0m\u001b[0m\n\u001b[0;32m----> 3\u001b[0;31m \u001b[0mori_t\u001b[0m \u001b[0;34m=\u001b[0m \u001b[0mori\u001b[0m\u001b[0;34m[\u001b[0m\u001b[0midx\u001b[0m\u001b[0;34m]\u001b[0m\u001b[0;34m.\u001b[0m\u001b[0mcpu\u001b[0m\u001b[0;34m(\u001b[0m\u001b[0;34m)\u001b[0m\u001b[0;34m.\u001b[0m\u001b[0mdetach\u001b[0m\u001b[0;34m(\u001b[0m\u001b[0;34m)\u001b[0m\u001b[0;34m\u001b[0m\u001b[0;34m\u001b[0m\u001b[0m\n\u001b[0m\u001b[1;32m      4\u001b[0m \u001b[0;31m# in_t_t = ori_t.unsqueeze(0).to(device)\u001b[0m\u001b[0;34m\u001b[0m\u001b[0;34m\u001b[0m\u001b[0;34m\u001b[0m\u001b[0m\n\u001b[1;32m      5\u001b[0m \u001b[0;31m# out_t_t, _, _ = model(in_t_t)\u001b[0m\u001b[0;34m\u001b[0m\u001b[0;34m\u001b[0m\u001b[0;34m\u001b[0m\u001b[0m\n",
      "\u001b[0;31mNameError\u001b[0m: name 'ori' is not defined"
     ]
    }
   ],
   "source": [
    "model.eval()\n",
    "idx = 2\n",
    "ori_t = ori[idx].cpu().detach()\n",
    "# in_t_t = ori_t.unsqueeze(0).to(device)\n",
    "# out_t_t, _, _ = model(in_t_t)\n",
    "out_t_t = output[idx]\n",
    "out_t_t = out_t_t.squeeze(0).cpu().detach()\n",
    "\n",
    "ss_t_t = ss[idx]\n",
    "ss_t_t = ss_t_t.squeeze(0).cpu().detach()\n",
    "\n",
    "ori_t_i = tensor2pil(ori_t)\n",
    "out_t_i = tensor2pil(out_t_t)\n",
    "\n",
    "ss_t_i = tensor2pil(ss_t_t)\n",
    "\n",
    "plt.figure(figsize = (20,20))\n",
    "plt.subplot(2,2,1)\n",
    "plt.imshow(np.asarray(ori_t_i))\n",
    "plt.subplot(2,2,2)\n",
    "plt.imshow(np.asarray(out_t_i))\n",
    "plt.subplot(2,2,3)\n",
    "plt.imshow(np.asarray(ss_t_i))"
   ]
  },
  {
   "cell_type": "code",
   "execution_count": 41,
   "metadata": {},
   "outputs": [
    {
     "name": "stderr",
     "output_type": "stream",
     "text": [
      "  1%|▏         | 8/634 [00:00<00:11, 55.96it/s, Loss=0.0324]"
     ]
    },
    {
     "name": "stdout",
     "output_type": "stream",
     "text": [
      "[03.12.19 00:26:01] Evaluating\n"
     ]
    },
    {
     "name": "stderr",
     "output_type": "stream",
     "text": [
      " 81%|████████  | 512/634 [00:08<00:02, 58.04it/s, Loss=0.0379]\n"
     ]
    }
   ],
   "source": [
    "# Evaluate rae\n",
    "log.info('Evaluating')\n",
    "batch_size = args.batch_size\n",
    "model.eval()\n",
    "with torch.enable_grad(), \\\n",
    "        tqdm(total=len(dev_loader.dataset)) as progress_bar:\n",
    "    for ori_dev, ss_dev in dev_loader:\n",
    "        ori_dev = ori_dev.to(device)\n",
    "        ss_dev = ss_dev.to(device)\n",
    "        model = model.to(device)\n",
    "        model.set_input(ori_dev)\n",
    "        model.reset_hidden()\n",
    "\n",
    "        output_dev = model()\n",
    "        loss, ls, lg = loss_fn_rae(output_dev, ss_dev)\n",
    "        loss_val = loss.item()\n",
    "#         optimizer.zero_grad()\n",
    "#         loss.backward()\n",
    "        # nn.utils.clip_grad_norm_(model.parameters(), args.max_grad_norm)\n",
    "#         optimizer.step()\n",
    "\n",
    "#         step += batch_size\n",
    "        progress_bar.update(batch_size)\n",
    "        progress_bar.set_postfix(Loss=loss_val)\n"
   ]
  },
  {
   "cell_type": "code",
   "execution_count": 23,
   "metadata": {
    "scrolled": false
   },
   "outputs": [
    {
     "data": {
      "text/plain": [
       "<matplotlib.image.AxesImage at 0x7f3cf803a780>"
      ]
     },
     "execution_count": 23,
     "metadata": {},
     "output_type": "execute_result"
    },
    {
     "data": {
      "image/png": "[encoded data removed]",
      "text/plain": [
       "<Figure size 1440x1440 with 3 Axes>"
      ]
     },
     "metadata": {
      "needs_background": "light"
     },
     "output_type": "display_data"
    }
   ],
   "source": [
    "# model.eval()\n",
    "idx = 1\n",
    "ori_d = ori_dev[idx].cpu().detach()\n",
    "# in_t_t = ori_t.unsqueeze(0).to(device)\n",
    "# out_t_t, _, _ = model(in_t_t)\n",
    "out_d_t = output_dev[idx]\n",
    "out_d_t = out_d_t.squeeze(0).cpu().detach()\n",
    "\n",
    "ss_d_t = ss_dev[idx]\n",
    "ss_d_t = ss_d_t.squeeze(0).cpu().detach()\n",
    "\n",
    "ori_d_i = tensor2pil(ori_d)\n",
    "out_d_i = tensor2pil(out_d_t)\n",
    "ss_d_i = tensor2pil(ss_d_t)\n",
    "\n",
    "plt.figure(figsize = (20,20))\n",
    "plt.subplot(2,2,1)\n",
    "plt.imshow(np.asarray(ori_d_i))\n",
    "plt.subplot(2,2,2)\n",
    "plt.imshow(np.asarray(out_d_i))\n",
    "plt.subplot(2,2,3)\n",
    "# plt.imshow(np.asarray(ss_i))\n",
    "plt.imshow(np.asarray(ss_d_i))"
   ]
  },
  {
   "cell_type": "code",
   "execution_count": null,
   "metadata": {
    "scrolled": true
   },
   "outputs": [],
   "source": [
    "# Try to forward the same batch several times\n",
    "forward_time = 1\n",
    "ori_dev_m = ori_dev\n",
    "\n",
    "output_dev_m = ori_dev_m.to(device)\n",
    "# ss_dev = ss_dev.to(device)\n",
    "for _ in range(forward_time):\n",
    "    model = model.to(device)\n",
    "    model.set_input(output_dev_m)\n",
    "    model.reset_hidden()\n",
    "    output_dev_m = model()\n",
    "    \n",
    "out_d_m_t = output_dev_m[0].cpu().detach()\n",
    "out_d_m_i = tensor2pil(out_d_m_t)\n",
    "plt.figure(figsize=(50,50))\n",
    "plt.imshow(np.asarray(out_d_m_i))"
   ]
  },
  {
   "cell_type": "code",
   "execution_count": null,
   "metadata": {},
   "outputs": [],
   "source": []
  }
 ],
 "metadata": {
  "kernelspec": {
   "display_name": "Python 3",
   "language": "python",
   "name": "python3"
  },
  "language_info": {
   "codemirror_mode": {
    "name": "ipython",
    "version": 3
   },
   "file_extension": ".py",
   "mimetype": "text/x-python",
   "name": "python",
   "nbconvert_exporter": "python",
   "pygments_lexer": "ipython3",
   "version": "3.7.2"
  }
 },
 "nbformat": 4,
 "nbformat_minor": 2
}
